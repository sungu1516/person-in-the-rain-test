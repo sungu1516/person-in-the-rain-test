{
 "cells": [
  {
   "cell_type": "markdown",
   "metadata": {},
   "source": [
    "## 이미지 인식을 통한 그림심리검사 : model training"
   ]
  },
  {
   "cell_type": "markdown",
   "metadata": {},
   "source": [
    "#### 학습은 가상환경 또는 colab에서 진행하는 것을 권장합니다."
   ]
  },
  {
   "cell_type": "markdown",
   "metadata": {},
   "source": [
    "### 1. requirements install & setting"
   ]
  },
  {
   "cell_type": "code",
   "execution_count": 2,
   "metadata": {},
   "outputs": [
    {
     "name": "stderr",
     "output_type": "stream",
     "text": [
      "Cloning into 'Mask_RCNN'...\n"
     ]
    }
   ],
   "source": [
    "# mask-rcnn clone\n",
    "!git clone https://github.com/matterport/Mask_RCNN.git"
   ]
  },
  {
   "cell_type": "code",
   "execution_count": 3,
   "metadata": {
    "colab": {
     "base_uri": "https://localhost:8080/"
    },
    "executionInfo": {
     "elapsed": 8403,
     "status": "ok",
     "timestamp": 1613786804650,
     "user": {
      "displayName": "김정환",
      "photoUrl": "",
      "userId": "07746106286729136532"
     },
     "user_tz": -540
    },
    "id": "yaZVPpoEJV9m",
    "outputId": "eedb822e-6aca-4079-c7e7-e115fd9d6bed"
   },
   "outputs": [
    {
     "name": "stdout",
     "output_type": "stream",
     "text": [
      "C:\\Users\\Sun\\Desktop\\test\\Mask_RCNN\n"
     ]
    }
   ],
   "source": [
    "%cd Mask_RCNN/"
   ]
  },
  {
   "cell_type": "code",
   "execution_count": 4,
   "metadata": {
    "colab": {
     "base_uri": "https://localhost:8080/"
    },
    "executionInfo": {
     "elapsed": 8610,
     "status": "ok",
     "timestamp": 1613786805563,
     "user": {
      "displayName": "김정환",
      "photoUrl": "",
      "userId": "07746106286729136532"
     },
     "user_tz": -540
    },
    "id": "i84TQ-o1JV4F",
    "outputId": "314faba4-eda2-4bd5-a551-95d87d561e8a"
   },
   "outputs": [
    {
     "name": "stdout",
     "output_type": "stream",
     "text": [
      "running install\n",
      "running bdist_egg\n",
      "running egg_info\n",
      "creating mask_rcnn.egg-info\n",
      "writing mask_rcnn.egg-info\\PKG-INFO\n",
      "writing dependency_links to mask_rcnn.egg-info\\dependency_links.txt\n",
      "writing top-level names to mask_rcnn.egg-info\\top_level.txt\n",
      "writing manifest file 'mask_rcnn.egg-info\\SOURCES.txt'\n",
      "reading manifest file 'mask_rcnn.egg-info\\SOURCES.txt'\n",
      "reading manifest template 'MANIFEST.in'\n",
      "writing manifest file 'mask_rcnn.egg-info\\SOURCES.txt'\n",
      "installing library code to build\\bdist.win-amd64\\egg\n",
      "running install_lib\n",
      "running build_py\n",
      "creating build\n",
      "creating build\\lib\n",
      "creating build\\lib\\mrcnn\n",
      "copying mrcnn\\config.py -> build\\lib\\mrcnn\n",
      "copying mrcnn\\model.py -> build\\lib\\mrcnn\n",
      "copying mrcnn\\parallel_model.py -> build\\lib\\mrcnn\n",
      "copying mrcnn\\utils.py -> build\\lib\\mrcnn\n",
      "copying mrcnn\\visualize.py -> build\\lib\\mrcnn\n",
      "copying mrcnn\\__init__.py -> build\\lib\\mrcnn\n",
      "creating build\\bdist.win-amd64\n",
      "creating build\\bdist.win-amd64\\egg\n",
      "creating build\\bdist.win-amd64\\egg\\mrcnn\n",
      "copying build\\lib\\mrcnn\\config.py -> build\\bdist.win-amd64\\egg\\mrcnn\n",
      "copying build\\lib\\mrcnn\\model.py -> build\\bdist.win-amd64\\egg\\mrcnn\n",
      "copying build\\lib\\mrcnn\\parallel_model.py -> build\\bdist.win-amd64\\egg\\mrcnn\n",
      "copying build\\lib\\mrcnn\\utils.py -> build\\bdist.win-amd64\\egg\\mrcnn\n",
      "copying build\\lib\\mrcnn\\visualize.py -> build\\bdist.win-amd64\\egg\\mrcnn\n",
      "copying build\\lib\\mrcnn\\__init__.py -> build\\bdist.win-amd64\\egg\\mrcnn\n",
      "byte-compiling build\\bdist.win-amd64\\egg\\mrcnn\\config.py to config.cpython-38.pyc\n",
      "byte-compiling build\\bdist.win-amd64\\egg\\mrcnn\\model.py to model.cpython-38.pyc\n",
      "byte-compiling build\\bdist.win-amd64\\egg\\mrcnn\\parallel_model.py to parallel_model.cpython-38.pyc\n",
      "byte-compiling build\\bdist.win-amd64\\egg\\mrcnn\\utils.py to utils.cpython-38.pyc\n",
      "byte-compiling build\\bdist.win-amd64\\egg\\mrcnn\\visualize.py to visualize.cpython-38.pyc\n",
      "byte-compiling build\\bdist.win-amd64\\egg\\mrcnn\\__init__.py to __init__.cpython-38.pyc\n",
      "creating build\\bdist.win-amd64\\egg\\EGG-INFO\n",
      "copying mask_rcnn.egg-info\\PKG-INFO -> build\\bdist.win-amd64\\egg\\EGG-INFO\n",
      "copying mask_rcnn.egg-info\\SOURCES.txt -> build\\bdist.win-amd64\\egg\\EGG-INFO\n",
      "copying mask_rcnn.egg-info\\dependency_links.txt -> build\\bdist.win-amd64\\egg\\EGG-INFO\n",
      "copying mask_rcnn.egg-info\\top_level.txt -> build\\bdist.win-amd64\\egg\\EGG-INFO\n",
      "creating dist\n",
      "creating 'dist\\mask_rcnn-2.1-py3.8.egg' and adding 'build\\bdist.win-amd64\\egg' to it\n",
      "removing 'build\\bdist.win-amd64\\egg' (and everything under it)\n",
      "Processing mask_rcnn-2.1-py3.8.egg\n",
      "Copying mask_rcnn-2.1-py3.8.egg to c:\\users\\sun\\anaconda3\\lib\\site-packages\n",
      "Adding mask-rcnn 2.1 to easy-install.pth file\n",
      "\n",
      "Installed c:\\users\\sun\\anaconda3\\lib\\site-packages\\mask_rcnn-2.1-py3.8.egg\n",
      "Processing dependencies for mask-rcnn==2.1\n",
      "Finished processing dependencies for mask-rcnn==2.1\n"
     ]
    },
    {
     "name": "stderr",
     "output_type": "stream",
     "text": [
      "WARNING:root:Fail load requirements file, so using default ones.\n",
      "build\\bdist.win-amd64\\egg\\mrcnn\\model.py:2359: SyntaxWarning: \"is\" with a literal. Did you mean \"==\"?\n",
      "  if os.name is 'nt':\n",
      "zip_safe flag not set; analyzing archive contents...\n"
     ]
    }
   ],
   "source": [
    "# 디렉토리 이동하여 install\n",
    "!python setup.py install"
   ]
  },
  {
   "cell_type": "code",
   "execution_count": 5,
   "metadata": {
    "colab": {
     "base_uri": "https://localhost:8080/"
    },
    "executionInfo": {
     "elapsed": 82364,
     "status": "ok",
     "timestamp": 1613786891917,
     "user": {
      "displayName": "김정환",
      "photoUrl": "",
      "userId": "07746106286729136532"
     },
     "user_tz": -540
    },
    "id": "rxOOlxNGJlCN",
    "outputId": "9652994e-c9be-4cc7-a899-c0ceb1e01e7b",
    "scrolled": true
   },
   "outputs": [
    {
     "name": "stderr",
     "output_type": "stream",
     "text": [
      "ERROR: Could not find a version that satisfies the requirement tensorflow-gpu==1.15.0\n",
      "ERROR: No matching distribution found for tensorflow-gpu==1.15.0\n"
     ]
    },
    {
     "name": "stdout",
     "output_type": "stream",
     "text": [
      "Collecting keras==2.2.5\n",
      "  Downloading Keras-2.2.5-py2.py3-none-any.whl (336 kB)\n",
      "Requirement already satisfied: scipy>=0.14 in c:\\users\\sun\\anaconda3\\lib\\site-packages (from keras==2.2.5) (1.5.2)\n",
      "Requirement already satisfied: six>=1.9.0 in c:\\users\\sun\\anaconda3\\lib\\site-packages (from keras==2.2.5) (1.15.0)\n",
      "Requirement already satisfied: pyyaml in c:\\users\\sun\\anaconda3\\lib\\site-packages (from keras==2.2.5) (5.4.1)\n",
      "Requirement already satisfied: keras-preprocessing>=1.1.0 in c:\\users\\sun\\anaconda3\\lib\\site-packages (from keras==2.2.5) (1.1.2)\n",
      "Requirement already satisfied: h5py in c:\\users\\sun\\anaconda3\\lib\\site-packages (from keras==2.2.5) (2.10.0)\n",
      "Requirement already satisfied: numpy>=1.9.1 in c:\\users\\sun\\anaconda3\\lib\\site-packages (from keras==2.2.5) (1.19.2)\n",
      "Collecting keras-applications>=1.0.8\n",
      "  Downloading Keras_Applications-1.0.8-py3-none-any.whl (50 kB)\n",
      "Installing collected packages: keras-applications, keras\n",
      "  Attempting uninstall: keras\n",
      "    Found existing installation: Keras 2.4.3\n",
      "    Uninstalling Keras-2.4.3:\n",
      "      Successfully uninstalled Keras-2.4.3\n",
      "Successfully installed keras-2.2.5 keras-applications-1.0.8\n"
     ]
    }
   ],
   "source": [
    "# downgrade version\n",
    "!pip install tensorflow-gpu==1.15.0\n",
    "!pip install keras==2.2.5"
   ]
  },
  {
   "cell_type": "markdown",
   "metadata": {},
   "source": [
    "### 2. model training"
   ]
  },
  {
   "cell_type": "code",
   "execution_count": null,
   "metadata": {
    "id": "AeIsIQwMswqT"
   },
   "outputs": [],
   "source": [
    "# mask-rcnn\\\\sample 폴더의 파이썬 파일(coco.py or balloon.py)울 바탕으로, 학습시키고자 하는 데이터셋에 맞춰 .py 파일을 준비한다. "
   ]
  },
  {
   "cell_type": "code",
   "execution_count": null,
   "metadata": {},
   "outputs": [],
   "source": [
    "# 학습시키고자 하는 물체별 폴더로 이동. 폴더 안에는 데이터셋이 존재한다. \n",
    "%cd ../umbrella\n",
    "# %cd ../person\n",
    "# %cd ../puddle\n",
    "# %cd ../cloud\n",
    "# %cd ../thunder"
   ]
  },
  {
   "cell_type": "code",
   "execution_count": null,
   "metadata": {},
   "outputs": [],
   "source": [
    "# 사전학습된 coco 가중치를 준비한다. \n",
    "COCO_MODEL_PATH = os.path.join(\"mask_rcnn_coco.h5\")\n",
    "# Download COCO trained weights from Releases if needed\n",
    "if not os.path.exists(COCO_MODEL_PATH):\n",
    "    utils.download_trained_weights(COCO_MODEL_PATH)"
   ]
  },
  {
   "cell_type": "code",
   "execution_count": 9,
   "metadata": {
    "colab": {
     "base_uri": "https://localhost:8080/"
    },
    "executionInfo": {
     "elapsed": 504231,
     "status": "ok",
     "timestamp": 1613790663247,
     "user": {
      "displayName": "김정환",
      "photoUrl": "",
      "userId": "07746106286729136532"
     },
     "user_tz": -540
    },
    "id": "cvdJGPzjKJSK",
    "outputId": "27cc0799-62ba-4dd5-a7b9-ccba9cfc0777"
   },
   "outputs": [
    {
     "name": "stderr",
     "output_type": "stream",
     "text": [
      "python: can't open file 'umbrella.py': [Errno 2] No such file or directory\n"
     ]
    }
   ],
   "source": [
    "# training 진행. /path/to/dataset 에는 dataset의 경로를 넣어준다. coco weight를 이용한 transfer learning \n",
    "!python3 balloon.py train --dataset=/path/to/dataset--model=coco"
   ]
  },
  {
   "cell_type": "code",
   "execution_count": null,
   "metadata": {},
   "outputs": [],
   "source": [
    "# 물체별 학습된 모델인 .h5 파일이 생성된다. 경로는 위의 .py 파일에서 설정할 수 있다. "
   ]
  }
 ],
 "metadata": {
  "accelerator": "GPU",
  "colab": {
   "authorship_tag": "ABX9TyM9H5+aaSda1W9wbWXrQdFs",
   "collapsed_sections": [],
   "name": "MaskRCNNtrain.ipynb",
   "provenance": []
  },
  "kernelspec": {
   "display_name": "Python 3",
   "language": "python",
   "name": "python3"
  },
  "language_info": {
   "codemirror_mode": {
    "name": "ipython",
    "version": 3
   },
   "file_extension": ".py",
   "mimetype": "text/x-python",
   "name": "python",
   "nbconvert_exporter": "python",
   "pygments_lexer": "ipython3",
   "version": "3.8.5"
  }
 },
 "nbformat": 4,
 "nbformat_minor": 1
}
