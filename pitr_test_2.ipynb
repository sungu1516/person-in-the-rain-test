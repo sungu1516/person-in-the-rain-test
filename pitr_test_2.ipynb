{
 "cells": [
  {
   "cell_type": "markdown",
   "metadata": {},
   "source": [
    "## 이미지 인식을 통한 그림심리검사 : function & test"
   ]
  },
  {
   "cell_type": "markdown",
   "metadata": {},
   "source": [
    "### 1. setting"
   ]
  },
  {
   "cell_type": "code",
   "execution_count": 1,
   "metadata": {},
   "outputs": [
    {
     "name": "stdout",
     "output_type": "stream",
     "text": [
      "지시사항\n",
      "\n",
      "1) 용지에 빗속의 사람을 그리세요.\n",
      "2) 만화나 막대기 같은 사람이 아닌 완전한 사람을 그리세요.\n",
      "3) 그림을 그릴 때는 옆 사람의 그림을 보고 그리거나, 서로 의논하여 그리지 않고 혼자서 생각대로 자유롭게 그리세요.\n",
      "\n",
      "..."
     ]
    }
   ],
   "source": [
    "import time\n",
    "#그리기 전 지시사항 전달\n",
    "instr = \"\"\"지시사항\n",
    "\n",
    "1) 용지에 빗속의 사람을 그리세요.\n",
    "2) 만화나 막대기 같은 사람이 아닌 완전한 사람을 그리세요.\n",
    "3) 그림을 그릴 때는 옆 사람의 그림을 보고 그리거나, 서로 의논하여 그리지 않고 혼자서 생각대로 자유롭게 그리세요.\n",
    "\"\"\"\n",
    "\n",
    "print(instr)\n",
    "for x in range(3):\n",
    "    time.sleep(1)\n",
    "    print(\".\", end=\"\")"
   ]
  },
  {
   "cell_type": "code",
   "execution_count": 2,
   "metadata": {},
   "outputs": [
    {
     "name": "stdout",
     "output_type": "stream",
     "text": [
      "\n",
      "\n",
      "그림 그리기가 완료되었다면, 다음의 질문에 차례대로 답해주시기 바랍니다.\n",
      "1) 비는 얼마만큼 내리나요? : \n",
      "(많이, 보통, 적게)많이\n",
      "2) 비에 얼마나 맞고 있나요?: \n",
      "(많이, 조금, 없음) 많이\n",
      "3) 그 사람의 기분은 어떻습니까? \n",
      "(좋다, 그저그렇다, 나쁘다) : 나쁘다\n"
     ]
    }
   ],
   "source": [
    "# 그림 완료 후 추가질문\n",
    "\n",
    "print(\"\\n\")\n",
    "print(\"그림 그리기가 완료되었다면, 다음의 질문에 차례대로 답해주시기 바랍니다.\")\n",
    "\n",
    "time.sleep(2)\n",
    "\n",
    "q1 = input(\"1) 비는 얼마만큼 내리나요? : \\n(많이, 보통, 적게)\")\n",
    "q2 = input(\"2) 비에 얼마나 맞고 있나요?: \\n(많이, 조금, 없음) \")\n",
    "q3 = input(\"3) 그 사람의 기분은 어떻습니까? \\n(좋다, 그저그렇다, 나쁘다) : \")\n",
    "\n",
    "# 답변내용 저장 \n",
    "answer_result = [q1,q2,q3]"
   ]
  },
  {
   "cell_type": "code",
   "execution_count": 3,
   "metadata": {
    "executionInfo": {
     "elapsed": 675,
     "status": "ok",
     "timestamp": 1613791426679,
     "user": {
      "displayName": "김정환",
      "photoUrl": "",
      "userId": "07746106286729136532"
     },
     "user_tz": -540
    },
    "id": "gY6KpZMeKNUU"
   },
   "outputs": [],
   "source": [
    "import os\n",
    "import sys\n",
    "import random\n",
    "import math\n",
    "import re\n",
    "import time\n",
    "import numpy as np\n",
    "import tensorflow as tf\n",
    "import matplotlib\n",
    "import matplotlib.pyplot as plt\n",
    "import matplotlib.patches as patches\n",
    "from PIL import Image\n",
    "import warnings\n",
    "warnings.filterwarnings(\"ignore\")\n",
    "\n",
    "# import maskrcnn\n",
    "from mrcnn import utils\n",
    "from mrcnn import visualize\n",
    "from mrcnn.visualize import display_images\n",
    "import mrcnn.model as modellib\n",
    "from mrcnn.model import log\n",
    "\n",
    "# import customized modules\n",
    "import umbrella.umbrella as umbrella\n",
    "import cloud.cloud as cloud\n",
    "import person.person as person\n",
    "import puddle.puddle as puddle\n",
    "%matplotlib inline"
   ]
  },
  {
   "cell_type": "code",
   "execution_count": null,
   "metadata": {},
   "outputs": [],
   "source": [
    "# 테스트 이미지 가져오기 및 테스트 출력\n",
    "IMAGE_DIR = \"예시.jpg\"\n",
    "image = Image.open(os.path.join(IMAGE_DIR)).convert('RGB')\n",
    "image = np.array(image)\n",
    "y,x,_ = image.shape\n",
    "plt.imshow(image)"
   ]
  },
  {
   "cell_type": "markdown",
   "metadata": {},
   "source": [
    "### 2. function"
   ]
  },
  {
   "cell_type": "code",
   "execution_count": 5,
   "metadata": {
    "colab": {
     "base_uri": "https://localhost:8080/"
    },
    "executionInfo": {
     "elapsed": 831,
     "status": "ok",
     "timestamp": 1613791695245,
     "user": {
      "displayName": "김정환",
      "photoUrl": "",
      "userId": "07746106286729136532"
     },
     "user_tz": -540
    },
    "id": "mJOP5JfIscoO",
    "outputId": "4e5d8bbe-ba7d-40f4-bbd5-ece1d7e40927"
   },
   "outputs": [],
   "source": [
    "# 특정 이미지에 대한 예측을 위해 Custom_predict 함수 정의\n",
    "def Custom_predict(custom, custom_name, IMAGE):\n",
    "    \n",
    "    config = custom.CustomConfig()\n",
    "    \n",
    "    class InferenceConfig(config.__class__):\n",
    "    # Run detection on one image at a time\n",
    "        GPU_COUNT = 1\n",
    "        IMAGES_PER_GPU = 1\n",
    "    config = InferenceConfig()\n",
    "    TEST_MODE = \"inference\"\n",
    "    DEVICE = \"/cpu:0\" \n",
    "    with tf.device(DEVICE):\n",
    "        model = modellib.MaskRCNN(mode=\"inference\", model_dir=\"\",\n",
    "                                  config=config)\n",
    "    \n",
    "    # 학습시킨 모델의 가중치 불러오기 \n",
    "    class_names = [custom_name]\n",
    "    weights_path = custom_name+'.h5' \n",
    "    model.load_weights(weights_path, by_name=True)\n",
    "    \n",
    "    # 예측결과를 딕셔너리 형태로 리턴. 인식된 물체 이름도 추가해준다. \n",
    "    results = model.detect([image], verbose=0)\n",
    "    r = results[0]\n",
    "    r[\"class_names\"] = [\"\",custom_name]  \n",
    "    return r"
   ]
  },
  {
   "cell_type": "code",
   "execution_count": 6,
   "metadata": {},
   "outputs": [
    {
     "name": "stdout",
     "output_type": "stream",
     "text": [
      "WARNING:tensorflow:From C:\\Users\\Sun\\anaconda3\\lib\\site-packages\\tensorflow\\python\\util\\deprecation.py:605: calling map_fn_v2 (from tensorflow.python.ops.map_fn) with dtype is deprecated and will be removed in a future version.\n",
      "Instructions for updating:\n",
      "Use fn_output_signature instead\n"
     ]
    }
   ],
   "source": [
    "person_result = Custom_predict(person,'person',image)\n",
    "cloud_result = Custom_predict(cloud,'cloud',image)\n",
    "umbrella_result = Custom_predict(umbrella,'umbrella',image)\n",
    "puddle_result = Custom_predict(puddle,'puddle',image)"
   ]
  },
  {
   "cell_type": "code",
   "execution_count": 35,
   "metadata": {},
   "outputs": [],
   "source": []
  },
  {
   "cell_type": "markdown",
   "metadata": {},
   "source": [
    "### 1) stress score"
   ]
  },
  {
   "cell_type": "code",
   "execution_count": null,
   "metadata": {},
   "outputs": [],
   "source": [
    "def y_x(mask):\n",
    "    y_min = np.where(mask)[0].min()\n",
    "    y_max = np.where(mask)[0].max()\n",
    "    x_min = np.where(mask)[1].min()\n",
    "    x_max= np.where(mask)[1].max()\n",
    "    return y_min , y_max , x_min, x_max"
   ]
  },
  {
   "cell_type": "code",
   "execution_count": 36,
   "metadata": {},
   "outputs": [],
   "source": [
    "# 비의 양\n",
    "def S1(answer):\n",
    "    if answer ==\"많이\":\n",
    "        return 3\n",
    "    elif answer == \"보통\":\n",
    "        return 2\n",
    "    return 1\n",
    "# 비와 사람의 접촉\n",
    "def S5(answer) : \n",
    "    if answer ==\"많이 접촉\":\n",
    "        return 3\n",
    "    elif answer ==\"조금 접촉\":\n",
    "        return 2\n",
    "    return 1\n",
    "# 구름의 수 \n",
    "def S7(cloud_result):\n",
    "    num = len(cloud_result[\"class_ids\"])\n",
    "    if num==0:\n",
    "        return 1\n",
    "    elif num<3:\n",
    "        return 2\n",
    "    return 3\n",
    "# 구름의 면적\n",
    "def S8(cloud_result):\n",
    "    if not len(cloud_result):\n",
    "        return 1\n",
    "    large = 0\n",
    "    for i in range(len(cloud_result[\"class_ids\"])):\n",
    "        _,_,a,b = y_x(cloud_result[\"masks\"][:,:,i])\n",
    "        large+=(b-a)\n",
    "    if large<x/10:\n",
    "        return 1\n",
    "    elif large<x/5:\n",
    "        return 2\n",
    "    return 3\n",
    "\n",
    "# 웅덩이 수 \n",
    "        \n",
    "def S12(puddle_result):\n",
    "    if not len(puddle_result):\n",
    "        return 1 \n",
    "    elif len(puddle_result)<3:\n",
    "        return 2\n",
    "    else :\n",
    "        return 3\n",
    "# 웅덩이 면적    \n",
    "def S13(puddle_result):\n",
    "    if not len(puddle_result):\n",
    "        return 1\n",
    "    large = 0\n",
    "    for i in range(len(puddle_result[\"class_ids\"])):\n",
    "        _,_,a,b = y_x(puddle_result[\"masks\"][:,:,i])\n",
    "        large+=(b-a)\n",
    "    if large<x/10:\n",
    "        return 1\n",
    "    elif large<x/5:\n",
    "        return 2\n",
    "    return 3\n",
    "# 사람과 웅덩이 관계\n",
    "def S14(puddle_result, person_result):\n",
    "    if not len(puddle_result[\"class_ids\"]):\n",
    "        return 1 \n",
    "    person_yx  = y_x(person_result[\"masks\"])\n",
    "    for i in range(len(puddle_result[\"class_ids\"])):\n",
    "        yx = y_x(puddle_result[\"masks\"][:,:,i])\n",
    "        \n",
    "    if yx[2]<person_yx[2]<yx[3] or yx[2]<person_yx[3]<yx[3]:\n",
    "        return 3\n",
    "    \n",
    "    return 2            "
   ]
  },
  {
   "cell_type": "markdown",
   "metadata": {},
   "source": [
    "### 2) stress score"
   ]
  },
  {
   "cell_type": "code",
   "execution_count": 37,
   "metadata": {},
   "outputs": [],
   "source": [
    "# 직접보호물 개수\n",
    "def R1(umbrella_result):\n",
    "    if not len(umbrella_result[\"class_ids\"]):\n",
    "        return 1\n",
    "    elif len(umbrella_result[\"class_ids\"]) == 1:\n",
    "        return 2\n",
    "    return 3\n",
    "# 보호물의 적절성\n",
    "def R4(umbrella_result, person_result):\n",
    "    \n",
    "    if (not len(umbrella_result[\"class_ids\"])) or (not len(person_result[\"class_ids\"])):\n",
    "        return 1\n",
    "    else:\n",
    "        umbrella_y_min = y_x(umbrella_result['masks'])[0]\n",
    "        person_y_min = y_x(person_result['masks'])[0]\n",
    "        # 우산이 사람위에서 비를 막아주는 경우\n",
    "        if umbrella_y_min <= person_y_min:\n",
    "            return 3\n",
    "        else:\n",
    "            return 2\n",
    "# 대상의 기분  \n",
    "def R7(answer): \n",
    "    if answer ==\"좋다\":\n",
    "        return 3\n",
    "    elif answer ==\"그저그렇다\":\n",
    "        return 2\n",
    "    return 1\n",
    "\n",
    "# 인물의 크기\n",
    "def R8(person_result):\n",
    "    if not len(puddle_result):\n",
    "        return 1\n",
    "    large = 0\n",
    "    for i in range(len(person_result[\"class_ids\"])):\n",
    "        _,_,a,b = y_x(person_result[\"masks\"][:,:,i])\n",
    "        large+=(b-a)\n",
    "    if large<x/10:\n",
    "        return 1\n",
    "    elif large<x/5:\n",
    "        return 2\n",
    "    return 3\n",
    "\n",
    "\n",
    "# 인물의 위치\n",
    "def R9(person_result):\n",
    "    y,x,_ = image.shape\n",
    "    y_min, y_max, x_min, x_max = y_x(person_result['masks'])\n",
    "    y_cen = (y_min+y_max)/2\n",
    "    x_cen = (x_min+x_max)/2\n",
    "    \n",
    "    # 가운데\n",
    "    if ((x_cen > x*1/5) and (x_cen < x*1/5)) and ((y_cen > y*1/5) and (y_cen < y*1/5)):\n",
    "        return 3\n",
    "    # 중심이탈\n",
    "    elif ((x_cen > x*1/5) or (x_cen < x*1/5)) and ((y_cen > y*1/5) and (y_cen < y*1/5)):\n",
    "        return 2\n",
    "    else:\n",
    "        return 1"
   ]
  },
  {
   "cell_type": "code",
   "execution_count": null,
   "metadata": {},
   "outputs": [],
   "source": [
    "# 스트레스 점수 및 자원점수 항목별 합산"
   ]
  },
  {
   "cell_type": "code",
   "execution_count": 38,
   "metadata": {},
   "outputs": [],
   "source": [
    "def StressScore(image):\n",
    "\n",
    "    score =0\n",
    "    score+= S1(answer_result[0])\n",
    "    score+= S5(answer_result[1])\n",
    "    score+= S7(cloud_result)\n",
    "    score+= S8(cloud_result)\n",
    "    score+= S12(puddle_result)\n",
    "    score+= S13(puddle_result)\n",
    "    score+= S14(puddle_result , person_result)\n",
    "    return score\n",
    "\n",
    "def ResourceScore(image):\n",
    "    score=0\n",
    "    score+= R1(umbrella_result)\n",
    "    score+= R4(umbrella_result, person_result)\n",
    "    score+= R7(answer_result[2])\n",
    "    score+= R8(person_result)\n",
    "    score+= R9(person_result)  \n",
    "\n",
    "    return score"
   ]
  },
  {
   "cell_type": "markdown",
   "metadata": {},
   "source": [
    "### 3) 최종 출력 함수 정의 & 해석결과 출력"
   ]
  },
  {
   "cell_type": "code",
   "execution_count": 39,
   "metadata": {},
   "outputs": [],
   "source": [
    "# IMAGE_DIR 입력하면 PITR 최종 점수가 산출된다. \n",
    "def PITRScore(image):\n",
    "    return ResourceScore(image) - StressScore(image) + 3"
   ]
  },
  {
   "cell_type": "code",
   "execution_count": 40,
   "metadata": {},
   "outputs": [
    {
     "data": {
      "text/plain": [
       "-8"
      ]
     },
     "execution_count": 40,
     "metadata": {},
     "output_type": "execute_result"
    }
   ],
   "source": [
    "PITRScore(image)"
   ]
  },
  {
   "cell_type": "code",
   "execution_count": null,
   "metadata": {},
   "outputs": [],
   "source": []
  },
  {
   "cell_type": "code",
   "execution_count": 43,
   "metadata": {},
   "outputs": [],
   "source": [
    "# 코멘트 내용 정리\n",
    "\n",
    "Final_Report = \"\"\"<최종 결과 보고서>\n",
    "\n",
    "- 그림 내용 해석\n",
    "\n",
    "비는 '스트레스'를 가늠하는 지표로 빗줄기의 양은 스트레스의 양을 나타냅니다. \n",
    "그림 속에 비가 없거나 빗물이 아주 적은 경우는 내담자가 스트레스에 무딘 경우라는 것을 나타내고, \n",
    "반대로 빗줄기의 양이 많다면 받고 있는 스트레스의 크기도 그만큼 많다는 것을 나타냅니다 \n",
    "\n",
    "비에 대한 대응은 스트레스에 대한 대응을 뜻하고 우산을 쓰거나 간접적인 보호물(나무, 집 등) 아래에 숨어\n",
    "비에 맞지 않고 있다면 내담자가 스트레스에 적절히 대응하고 있다고 볼 수 있습니다.  \n",
    "그러나 우산이 지나치게 클 경우 스트레스에 대처하는데 과도한 에너지를 사용한다고 볼 수 있습니다.\n",
    "\n",
    "한편, 그림 속 사람의 크기는 자신의 자아에 대한 크기를 나타냅니다. \n",
    "가로등을 그린 경우, 애정과 지지에 대한 관심을 드러낸다고 볼 수 있습니다. \n",
    "\n",
    "만약 천둥이나 번개를 그릴 경우, 지금 상당한 스트레스에 직면해 있음을 나타냅니다.\n",
    "\n",
    "*****************************************************************************************************\"\"\"\n",
    "\n",
    "doc1 = '''현재 자신이 가진 스트레스에 대해 적절하게 대처하고 있습니다.\n",
    "스트레스 점수가 높더라도 대처능력 점수가 높다면, 그만큼 본인이 스트레스에 대처하는 능력이 좋다고 볼 수 있습니다.\n",
    "대처능력이 좋은 편이기 때문에 스트레스를 받는 일이 많아도 금방 잘 이겨내는 경우가 많습니다.\n",
    "스트레스 상황이 생겼을 때 이를 회피하지 않고 문제에 부딪혀 이를 해결하려는 의지력도 가지고 있습니다.\n",
    "자신의 미래를 낙관적으로 생각하는 경향이 있고, 자신에게 주어진 일을 성공적으로 수행할 수 있다는 믿음을 가리키는 '자기 효능감'이 높은 편입니다.\n",
    "자신만의 스트레스 극복 & 해소 방법을 주변 사람들에게 공유해주는 것은 어떨까요?'''\n",
    "\n",
    "doc2 = '''현재 자신이 가진 스트레스에 대해 적절하게 대처하지 못하고 있습니다.\n",
    "주변의 스트레스들에 비해 그에 대처할 수 있는 자원이 부족한 상황입니다.\n",
    "대처자원이 부족하다 보니, 자신에게 스트레스 주는 일이 많다면 이를 잘 이겨내지 못하고 위축되거나 불안해하는 경향을 보입니다.\n",
    "이러한 상황이 계속된다면 우울증에 빠질 수도 있으니 주의해야 합니다.\n",
    "평소에 본인이 스트레스를 받을 때 대처할 수 있는 여러 방법들을 찾고, 개발하려는 노력이 필요합니다.'''\n",
    "\n",
    "doc3 = '''스트레스가 높은 집단을 대상으로 점수를 측정했을 때, 대처능력의 평균점수는 –5점 정도로 나옵니다.\n",
    "현재 본인의 대처능력점수는 -5점 이하로,겪고 있는 스트레스의 양이 상당히 많다고 해석될 수 있습니다.\n",
    "많은 스트레스에 대해 적절하게 대처하지 못하고 있다는 뜻도 있겠지요.\n",
    "이러한 상태가 오랜 기간 지속되었을 경우, 마음의 병이 생길 수 있습니다.\n",
    "따라서 실제로 많은 스트레스로 인해 힘든 상황이라면, 까운 상담소나 병원에 찾아가 상담을 받아 보는 것이 좋겠습니다.'''\n",
    "\n",
    "doc4 = '''현재 자신이 받는 스트레스와 대처자원의 정도가 균형을 이루고 있는 상태입니다.\n",
    "언뜻 보면 문제가 없는 상태로 보일 수 있지만, 현재 상황에서 스트레스가 조금만 더 많아진다면 언제든지 스트레스로 인해 힘들어질 수 있습니다.\n",
    "평소에 어떤 방식으로 스트레스를 해소하는 것이 좋은지에 대해 스스로를 잘 관찰하고, 준비해두는 것이 좋겠습니다.'''"
   ]
  },
  {
   "cell_type": "code",
   "execution_count": 44,
   "metadata": {},
   "outputs": [],
   "source": [
    "# 해석결과 출력함수 정의\n",
    "def print_report(image):\n",
    "    pitr_score = PITRScore(image)\n",
    "    stress_score = StressScore(image)\n",
    "    resource_score = ResourceScore(image)\n",
    "    \n",
    "    print(Final_Report, end=\"\\n\\n\")\n",
    "    print(\"- 대처능력점수 해석\", end=\"\\n\\n\")\n",
    "    print('나의 스트레스 점수는 {}점이고, 자원 점수는 {}점이며 대처능력점수는 {}점입니다.'.format(stress_score,resource_score,pitr_score), end=\"\\n\\n\")\n",
    "    \n",
    "    if pitr_score > 0:\n",
    "        print(doc1)\n",
    "    elif pitr_score < 0:\n",
    "        print(doc2)\n",
    "        if pitr_score <= -5:\n",
    "            print(\"\\n\")\n",
    "            print(doc3)\n",
    "    else:\n",
    "        print(doc4)"
   ]
  },
  {
   "cell_type": "code",
   "execution_count": 45,
   "metadata": {},
   "outputs": [
    {
     "name": "stdout",
     "output_type": "stream",
     "text": [
      "<최종 결과 보고서>\n",
      "\n",
      "- 그림 내용 해석\n",
      "\n",
      "비는 '스트레스'를 가늠하는 지표로 빗줄기의 양은 스트레스의 양을 나타냅니다. \n",
      "그림 속에 비가 없거나 빗물이 아주 적은 경우는 내담자가 스트레스에 무딘 경우라는 것을 나타내고, \n",
      "반대로 빗줄기의 양이 많다면 받고 있는 스트레스의 크기도 그만큼 많다는 것을 나타냅니다 \n",
      "\n",
      "비에 대한 대응은 스트레스에 대한 대응을 뜻하고 우산을 쓰거나 간접적인 보호물(나무, 집 등) 아래에 숨어\n",
      "비에 맞지 않고 있다면 내담자가 스트레스에 적절히 대응하고 있다고 볼 수 있습니다.  \n",
      "그러나 우산이 지나치게 클 경우 스트레스에 대처하는데 과도한 에너지를 사용한다고 볼 수 있습니다.\n",
      "\n",
      "한편, 그림 속 사람의 크기는 자신의 자아에 대한 크기를 나타냅니다. \n",
      "가로등을 그린 경우, 애정과 지지에 대한 관심을 드러낸다고 볼 수 있습니다. \n",
      "\n",
      "만약 천둥이나 번개를 그릴 경우, 지금 상당한 스트레스에 직면해 있음을 나타냅니다.\n",
      "\n",
      "*****************************************************************************************************\n",
      "\n",
      "- 대처능력점수 해석\n",
      "\n",
      "나의 스트레스 점수는 17점이고, 자원 점수는 6점이며 대처능력점수는 -8점입니다.\n",
      "\n",
      "현재 자신이 가진 스트레스에 대해 적절하게 대처하지 못하고 있습니다.\n",
      "주변의 스트레스들에 비해 그에 대처할 수 있는 자원이 부족한 상황입니다.\n",
      "대처자원이 부족하다 보니, 자신에게 스트레스 주는 일이 많다면 이를 잘 이겨내지 못하고 위축되거나 불안해하는 경향을 보입니다.\n",
      "이러한 상황이 계속된다면 우울증에 빠질 수도 있으니 주의해야 합니다.\n",
      "평소에 본인이 스트레스를 받을 때 대처할 수 있는 여러 방법들을 찾고, 개발하려는 노력이 필요합니다.\n",
      "\n",
      "\n",
      "스트레스가 높은 집단을 대상으로 점수를 측정했을 때, 대처능력의 평균점수는 –5점 정도로 나옵니다.\n",
      "현재 본인의 대처능력점수는 -5점 이하로,겪고 있는 스트레스의 양이 상당히 많다고 해석될 수 있습니다.\n",
      "많은 스트레스에 대해 적절하게 대처하지 못하고 있다는 뜻도 있겠지요.\n",
      "이러한 상태가 오랜 기간 지속되었을 경우, 마음의 병이 생길 수 있습니다.\n",
      "따라서 실제로 많은 스트레스로 인해 힘든 상황이라면, 까운 상담소나 병원에 찾아가 상담을 받아 보는 것이 좋겠습니다.\n"
     ]
    }
   ],
   "source": [
    "print_report(image)"
   ]
  },
  {
   "cell_type": "markdown",
   "metadata": {},
   "source": [
    "### mask region"
   ]
  },
  {
   "cell_type": "code",
   "execution_count": null,
   "metadata": {},
   "outputs": [],
   "source": [
    "def get_ax(rows=1, cols=1, size=16):\n",
    "    _, ax = plt.subplots(rows, cols, figsize=(size*cols, size*rows))\n",
    "    return ax\n",
    "\n",
    "def Custom_Mask(r1,r2,r3,r4, IMAGE):\n",
    "    # Load validation dataset\n",
    "    ax = get_ax(1)\n",
    "    class_names = [\"\",\"custom\"]\n",
    "    #Must call before using the dataset\n",
    "    visualize.display_instances(image, r1[\"rois\"], r1['masks'], r1['class_ids'], \n",
    "                            r1[\"class_names\"], r1['scores'], ax=ax,\n",
    "                            title=\"Predictions\")\n",
    "    visualize.display_instances(image, r2[\"rois\"], r2['masks'], r2['class_ids'], \n",
    "                            r2[\"class_names\"], r2['scores'], ax=ax,\n",
    "                            title=\"Predictions\")\n",
    "    visualize.display_instances(image, r3[\"rois\"], r3['masks'], r3['class_ids'], \n",
    "                            r3[\"class_names\"], r3['scores'], ax=ax,\n",
    "                            title=\"Predictions\")\n",
    "    visualize.display_instances(image, r4[\"rois\"], r4['masks'], r4['class_ids'], \n",
    "                            r4[\"class_names\"], r4['scores'], ax=ax,\n",
    "                            title=\"Predictions\")"
   ]
  },
  {
   "cell_type": "code",
   "execution_count": null,
   "metadata": {},
   "outputs": [],
   "source": [
    "Custom_Mask(cloud_result,umbrella_result,puddle_result,person_result, image)"
   ]
  }
 ],
 "metadata": {
  "accelerator": "GPU",
  "colab": {
   "authorship_tag": "ABX9TyM9H5+aaSda1W9wbWXrQdFs",
   "collapsed_sections": [],
   "name": "MaskRCNNtrain.ipynb",
   "provenance": []
  },
  "kernelspec": {
   "display_name": "Python 3",
   "language": "python",
   "name": "python3"
  },
  "language_info": {
   "codemirror_mode": {
    "name": "ipython",
    "version": 3
   },
   "file_extension": ".py",
   "mimetype": "text/x-python",
   "name": "python",
   "nbconvert_exporter": "python",
   "pygments_lexer": "ipython3",
   "version": "3.8.5"
  }
 },
 "nbformat": 4,
 "nbformat_minor": 1
}
